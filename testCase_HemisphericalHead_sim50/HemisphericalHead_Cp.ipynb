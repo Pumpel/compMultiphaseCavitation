{
 "cells": [
  {
   "cell_type": "code",
   "execution_count": 1,
   "metadata": {
    "collapsed": true
   },
   "outputs": [],
   "source": [
    "import pandas as pd\n",
    "import numpy as np\n",
    "import matplotlib.pyplot as plt\n",
    "import math\n",
    "%matplotlib inline\n",
    "import os\n",
    "from os import getcwd, chdir, mkdir"
   ]
  },
  {
   "cell_type": "code",
   "execution_count": 2,
   "metadata": {},
   "outputs": [
    {
     "data": {
      "text/plain": [
       "'/media/timo/sharedParti/Cavitation/compMultiphaseCavitation_validation/Branches/Features/corrAlphaVapor/hemisphHead_grid8_2_3_Re1_36k_simulations/hemisphHead_grid8_2_3_Re1_36k_K0_4_refinement003_sim003'"
      ]
     },
     "execution_count": 2,
     "metadata": {},
     "output_type": "execute_result"
    }
   ],
   "source": [
    "cwd = os.getcwd()\n",
    "\n",
    "\n",
    "plotwd = cwd + \"/Cp_avg.pdf\"\n",
    "probesFile_p = os.path.join(cwd, \"postProcessing/probes/0.000000/p\")\n",
    "probesFile_rho = os.path.join(cwd, \"postProcessing/probes/0.260000/rho\")\n",
    "chdir(cwd)\n",
    "cwd"
   ]
  },
  {
   "cell_type": "code",
   "execution_count": 3,
   "metadata": {},
   "outputs": [
    {
     "name": "stdout",
     "output_type": "stream",
     "text": [
      "OK\n"
     ]
    }
   ],
   "source": [
    "from pathlib import Path\n",
    "\n",
    "my_file = Path(probesFile_p)\n",
    "if my_file.is_file():\n",
    "    print(\"OK\")\n",
    "else:\n",
    "    print(\"Not OK\")"
   ]
  },
  {
   "cell_type": "code",
   "execution_count": 4,
   "metadata": {},
   "outputs": [
    {
     "name": "stdout",
     "output_type": "stream",
     "text": [
      "OK\n"
     ]
    }
   ],
   "source": [
    "from pathlib import Path\n",
    "\n",
    "my_file = Path(probesFile_rho)\n",
    "if my_file.is_file():\n",
    "    print(\"OK\")\n",
    "else:\n",
    "    print(\"Not OK\")"
   ]
  },
  {
   "cell_type": "markdown",
   "metadata": {},
   "source": [
    "# Reading p field\n",
    "## Reading in the probes coords in the top section of the file. Number of Probes must be known"
   ]
  },
  {
   "cell_type": "code",
   "execution_count": 5,
   "metadata": {
    "collapsed": true
   },
   "outputs": [],
   "source": [
    "probesNo = 999\n",
    "probeTypes = {}"
   ]
  },
  {
   "cell_type": "markdown",
   "metadata": {},
   "source": [
    "### Splitting the lines of the top section by whitespace"
   ]
  },
  {
   "cell_type": "code",
   "execution_count": 6,
   "metadata": {},
   "outputs": [
    {
     "name": "stdout",
     "output_type": "stream",
     "text": [
      "#Lines: 1016\n"
     ]
    }
   ],
   "source": [
    "lines = list()\n",
    "with open(probesFile_p, 'r') as f:\n",
    "    for line in f:\n",
    "        splitted = line.split(' ')\n",
    "        lines.append(splitted)\n",
    "print(\"#Lines: {}\".format(len(lines)))\n",
    "\n",
    "df = pd.DataFrame(data=lines[:])\n",
    "df_top = df[0:probesNo]\n",
    "# Reading only the probe No and the coordinates\n",
    "df_top = df_top[[2, 3, 4, 5]]\n",
    "\n",
    "df_top.rename(columns={2:'Probe',3:'x',4:'y',5:'z'}, inplace=True)\n",
    "\n",
    "\n",
    "#Remove the bracket in x\n",
    "# Create list of x values\n",
    "newx = list()\n",
    "x = df_top['x'].tolist()\n",
    "for ix in x:\n",
    "    ix = ix.replace(\"(\", \"\")\n",
    "    newx.append(ix)\n",
    "df_top['x'] = newx\n",
    "df_top['x'] = pd.to_numeric(df_top['x'])\n",
    "\n",
    "df_top['y'] = pd.to_numeric(df_top['y'])\n",
    "\n",
    "#Remove the bracket in z\n",
    "# Create list of z values\n",
    "newx = list()\n",
    "x = df_top['z'].tolist()\n",
    "for ix in x:\n",
    "    ix = ix.replace(\")\", \"\")\n",
    "    newx.append(ix)\n",
    "df_top['z'] = newx\n",
    "df_top['z'] = pd.to_numeric(df_top['z'])\n",
    "\n",
    "\n",
    "\n",
    "## Reading the values of the probes in the bottom section. Number of probes must be known\n",
    "### Splitting the lines in the bottom section by tabs\n",
    "num_lines = sum(1 for line in open(probesFile_p))\n",
    "#print(\"#Lines: {}\".format(num_lines))\n",
    "\n",
    "# Reading the rows with values\n",
    "lines = list()\n",
    "with open(probesFile_p, 'r') as f:\n",
    "    count = 0\n",
    "    for line in f:\n",
    "        #Staring row with vales is probes+2\n",
    "        if count > probesNo+2:\n",
    "            splitted = line.split(' ')\n",
    "            lines.append(splitted)\n",
    "        count = count + 1\n",
    "\n",
    "# removing empty list items  \n",
    "newline = list()\n",
    "for i in range(len(lines)):\n",
    "    for j in lines[i]:\n",
    "        if j != '' :\n",
    "            # removing the line break of the last list item\n",
    "            j = j.replace(\"\\n\", \"\")\n",
    "            newline.append(j)\n",
    "    lines[i] = newline\n",
    "    newline = list()\n",
    "    \n",
    "# Creating an array to construct a dataFrame with\n",
    "values_p = np.array(lines)\n",
    "values_p = values_p.transpose().tolist()"
   ]
  },
  {
   "cell_type": "markdown",
   "metadata": {},
   "source": [
    "# Reading rho"
   ]
  },
  {
   "cell_type": "code",
   "execution_count": 7,
   "metadata": {},
   "outputs": [
    {
     "name": "stdout",
     "output_type": "stream",
     "text": [
      "#Lines: 1015\n"
     ]
    }
   ],
   "source": [
    "lines = list()\n",
    "with open(probesFile_rho, 'r') as f:\n",
    "    for line in f:\n",
    "        splitted = line.split(' ')\n",
    "        lines.append(splitted)\n",
    "print(\"#Lines: {}\".format(len(lines)))\n",
    "\n",
    "df = pd.DataFrame(data=lines[:])\n",
    "df_top = df[0:probesNo]\n",
    "# Reading only the probe No and the coordinates\n",
    "df_top = df_top[[2, 3, 4, 5]]\n",
    "\n",
    "df_top.rename(columns={2:'Probe',3:'x',4:'y',5:'z'}, inplace=True)\n",
    "\n",
    "\n",
    "#Remove the bracket in x\n",
    "# Create list of x values\n",
    "newx = list()\n",
    "x = df_top['x'].tolist()\n",
    "for ix in x:\n",
    "    ix = ix.replace(\"(\", \"\")\n",
    "    newx.append(ix)\n",
    "df_top['x'] = newx\n",
    "df_top['x'] = pd.to_numeric(df_top['x'])\n",
    "\n",
    "df_top['y'] = pd.to_numeric(df_top['y'])\n",
    "\n",
    "#Remove the bracket in z\n",
    "# Create list of z values\n",
    "newx = list()\n",
    "x = df_top['z'].tolist()\n",
    "for ix in x:\n",
    "    ix = ix.replace(\")\", \"\")\n",
    "    newx.append(ix)\n",
    "df_top['z'] = newx\n",
    "df_top['z'] = pd.to_numeric(df_top['z'])\n",
    "\n",
    "\n",
    "\n",
    "## Reading the values of the probes in the bottom section. Number of probes must be known\n",
    "### Splitting the lines in the bottom section by tabs\n",
    "num_lines = sum(1 for line in open(probesFile_rho))\n",
    "#print(\"#Lines: {}\".format(num_lines))\n",
    "\n",
    "# Reading the rows with values\n",
    "lines = list()\n",
    "with open(probesFile_rho, 'r') as f:\n",
    "    count = 0\n",
    "    for line in f:\n",
    "        #Staring row with vales is probes+2\n",
    "        if count > probesNo+2:\n",
    "            splitted = line.split(' ')\n",
    "            lines.append(splitted)\n",
    "        count = count + 1\n",
    "\n",
    "# removing empty list items  \n",
    "newline = list()\n",
    "for i in range(len(lines)):\n",
    "    for j in lines[i]:\n",
    "        if j != '' :\n",
    "            # removing the line break of the last list item\n",
    "            j = j.replace(\"\\n\", \"\")\n",
    "            newline.append(j)\n",
    "    lines[i] = newline\n",
    "    newline = list()\n",
    "    \n",
    "# Creating an array to construct a dataFrame with\n",
    "values_rho = np.array(lines)\n",
    "values_rho = values_rho.transpose().tolist()"
   ]
  },
  {
   "cell_type": "markdown",
   "metadata": {},
   "source": [
    "## Creating Dataframe"
   ]
  },
  {
   "cell_type": "code",
   "execution_count": 8,
   "metadata": {
    "collapsed": true
   },
   "outputs": [],
   "source": [
    "dff = pd.DataFrame(data=values_p)\n",
    "df_bottom = dff"
   ]
  },
  {
   "cell_type": "code",
   "execution_count": 9,
   "metadata": {},
   "outputs": [
    {
     "data": {
      "text/html": [
       "<div>\n",
       "<style>\n",
       "    .dataframe thead tr:only-child th {\n",
       "        text-align: right;\n",
       "    }\n",
       "\n",
       "    .dataframe thead th {\n",
       "        text-align: left;\n",
       "    }\n",
       "\n",
       "    .dataframe tbody tr th {\n",
       "        vertical-align: top;\n",
       "    }\n",
       "</style>\n",
       "<table border=\"1\" class=\"dataframe\">\n",
       "  <thead>\n",
       "    <tr style=\"text-align: right;\">\n",
       "      <th></th>\n",
       "      <th>0</th>\n",
       "      <th>1</th>\n",
       "      <th>2</th>\n",
       "      <th>3</th>\n",
       "      <th>4</th>\n",
       "      <th>5</th>\n",
       "      <th>6</th>\n",
       "      <th>7</th>\n",
       "      <th>8</th>\n",
       "      <th>9</th>\n",
       "      <th>10</th>\n",
       "      <th>11</th>\n",
       "      <th>12</th>\n",
       "    </tr>\n",
       "  </thead>\n",
       "  <tbody>\n",
       "    <tr>\n",
       "      <th>0</th>\n",
       "      <td>0.26</td>\n",
       "      <td>0.265</td>\n",
       "      <td>0.27</td>\n",
       "      <td>0.275</td>\n",
       "      <td>0.28</td>\n",
       "      <td>0.285</td>\n",
       "      <td>0.29</td>\n",
       "      <td>0.295</td>\n",
       "      <td>0.3</td>\n",
       "      <td>0.305</td>\n",
       "      <td>0.31</td>\n",
       "      <td>0.315</td>\n",
       "      <td>0.32</td>\n",
       "    </tr>\n",
       "    <tr>\n",
       "      <th>1000</th>\n",
       "      <td>1027.01</td>\n",
       "      <td>1027</td>\n",
       "      <td>1027</td>\n",
       "      <td>1027</td>\n",
       "      <td>1027</td>\n",
       "      <td>1027</td>\n",
       "      <td>1027</td>\n",
       "      <td>1027</td>\n",
       "      <td>1027</td>\n",
       "      <td>1027</td>\n",
       "      <td>1027</td>\n",
       "      <td>1027</td>\n",
       "      <td>1027</td>\n",
       "    </tr>\n",
       "  </tbody>\n",
       "</table>\n",
       "</div>"
      ],
      "text/plain": [
       "           0      1     2      3     4      5     6      7     8      9   \\\n",
       "0        0.26  0.265  0.27  0.275  0.28  0.285  0.29  0.295   0.3  0.305   \n",
       "1000  1027.01   1027  1027   1027  1027   1027  1027   1027  1027   1027   \n",
       "\n",
       "        10     11    12  \n",
       "0     0.31  0.315  0.32  \n",
       "1000  1027   1027  1027  "
      ]
     },
     "execution_count": 9,
     "metadata": {},
     "output_type": "execute_result"
    }
   ],
   "source": [
    "df_rho = pd.DataFrame(data=values_rho)\n",
    "df_bottom[::1000]\n",
    "df_rho[::1000]"
   ]
  },
  {
   "cell_type": "markdown",
   "metadata": {},
   "source": [
    "## Cleaning col names "
   ]
  },
  {
   "cell_type": "markdown",
   "metadata": {},
   "source": [
    "### Renaming columns for all time steps"
   ]
  },
  {
   "cell_type": "code",
   "execution_count": 10,
   "metadata": {
    "collapsed": true
   },
   "outputs": [],
   "source": [
    "times = df_bottom.iloc[0].tolist()\n",
    "df_bottom.columns = times\n",
    "df_bottom.drop([0], inplace=True)"
   ]
  },
  {
   "cell_type": "code",
   "execution_count": 11,
   "metadata": {
    "collapsed": true
   },
   "outputs": [],
   "source": [
    "times = df_rho.iloc[0].tolist()\n",
    "df_rho.columns = times\n",
    "df_rho.drop([0], inplace=True)"
   ]
  },
  {
   "cell_type": "markdown",
   "metadata": {},
   "source": [
    "###  Removing duplicates "
   ]
  },
  {
   "cell_type": "code",
   "execution_count": 12,
   "metadata": {
    "collapsed": true
   },
   "outputs": [],
   "source": [
    "#For some reson, the last simulation time is imported twice. Hack: Remove the duplicate entries\n",
    "df_bottom = df_bottom.loc[:,~df_bottom.columns.duplicated()]\n"
   ]
  },
  {
   "cell_type": "code",
   "execution_count": 13,
   "metadata": {
    "collapsed": true
   },
   "outputs": [],
   "source": [
    "df_rho = df_rho.loc[:,~df_rho.columns.duplicated()]"
   ]
  },
  {
   "cell_type": "code",
   "execution_count": 14,
   "metadata": {},
   "outputs": [
    {
     "name": "stdout",
     "output_type": "stream",
     "text": [
      "Index(['0', '0.26', '0.265', '0.27', '0.275', '0.28', '0.285', '0.29', '0.295',\n",
      "       '0.3', '0.305', '0.31', '0.315', '0.32'],\n",
      "      dtype='object')\n"
     ]
    }
   ],
   "source": [
    "print(df_bottom.columns)\n",
    "\n",
    "for col in df_bottom:\n",
    "    df_bottom[col] = pd.to_numeric(df_bottom[col])\n",
    "    \n"
   ]
  },
  {
   "cell_type": "code",
   "execution_count": 15,
   "metadata": {
    "collapsed": true
   },
   "outputs": [],
   "source": [
    "for col in df_rho:\n",
    "    df_rho[col] = pd.to_numeric(df_rho[col])"
   ]
  },
  {
   "cell_type": "markdown",
   "metadata": {},
   "source": [
    "### Calculating the average values after time step 0.84\n",
    "The df_final DataFrame holds only time step columns for now. Additional information is added from this from here on."
   ]
  },
  {
   "cell_type": "code",
   "execution_count": 16,
   "metadata": {},
   "outputs": [
    {
     "name": "stdout",
     "output_type": "stream",
     "text": [
      "[ 0.26   0.265  0.27   0.275  0.28   0.285  0.29   0.295  0.3    0.305\n",
      "  0.31   0.315  0.32 ]\n"
     ]
    }
   ],
   "source": [
    "minTimeStep = 0.26\n",
    "\n",
    "df_bottom.columns = pd.to_numeric(df_bottom.columns)\n",
    "col_means = np.empty(0)\n",
    "for i in df_bottom:\n",
    "    if i >= minTimeStep:\n",
    "        col_means = np.append(col_means, i)\n",
    "df_mean = df_bottom.loc[:, col_means]\n",
    "df_bottom['p_avg']  = df_mean.mean(axis=1)\n",
    "\n",
    "print(col_means)\n",
    "df_p = df_bottom.loc[:, col_means]\n",
    "\n"
   ]
  },
  {
   "cell_type": "code",
   "execution_count": 17,
   "metadata": {
    "collapsed": true
   },
   "outputs": [],
   "source": [
    "df_rho.columns = pd.to_numeric(df_rho.columns)\n",
    "col_means = np.empty(0)\n",
    "for i in df_rho:\n",
    "    if i >= minTimeStep:\n",
    "        col_means = np.append(col_means, i)\n",
    "df_mean = df_rho.loc[:, col_means]\n",
    "# rho exist only since the moment cavitation occurs\n",
    "\n",
    "df_rho['rho_avg']  = df_mean.mean(axis=1)\n",
    "\n",
    "#df_bottom['rho'] = df_rho['rho_avg']\n",
    "df_bottom['rho'] = 1000"
   ]
  },
  {
   "cell_type": "code",
   "execution_count": 18,
   "metadata": {
    "collapsed": true
   },
   "outputs": [],
   "source": [
    "df_final = df_bottom"
   ]
  },
  {
   "cell_type": "markdown",
   "metadata": {},
   "source": [
    "### Helper functions"
   ]
  },
  {
   "cell_type": "code",
   "execution_count": 19,
   "metadata": {
    "collapsed": true
   },
   "outputs": [],
   "source": [
    "def calcCp_deprecated(p, p0, U0, rho):\n",
    "    _p = np.array(p)\n",
    "    _p0 = np.array(p0)\n",
    "    _U0 = np.array(U0)\n",
    "    _rho = np.array(rho)    \n",
    "    return (_p - _p0) / (0.5 * _U0**2 * _rho)\n",
    "\n",
    "def calcCp(df_p,p0,U,rho):\n",
    "    df_cp = pd.DataFrame()\n",
    "    for i in df_p:\n",
    "        #print(i)\n",
    "        _p = np.array(df_p[i])\n",
    "        _p0 = np.array(p0)\n",
    "        _U0 = np.array(U)\n",
    "        _rho = np.array(rho)\n",
    "        #print(_p.shape)\n",
    "        #print(_rho.shape)\n",
    "        #print(_p0.shape)\n",
    "        df_cp[i] = (_p - _p0) / (0.5 * _U0**2 * _rho)\n",
    "    return df_cp"
   ]
  },
  {
   "cell_type": "code",
   "execution_count": 20,
   "metadata": {
    "collapsed": true
   },
   "outputs": [],
   "source": [
    "df_final['p0'] = 70025.0 #70025.0 #87177.4 #82620.9\n",
    "df_final['U0'] = 12.9746\n",
    "\n",
    "\n",
    "\n",
    "df_p0 = df_p * 0 + 70025.0\n",
    "df_U = df_p * 0 + 12.9746\n",
    "\n",
    "# Dropping pressure values < 0\n",
    "indexToDrop = df_p[df_p[minTimeStep] < 0].index\n",
    "df_p = df_p.drop(indexToDrop)\n"
   ]
  },
  {
   "cell_type": "code",
   "execution_count": 21,
   "metadata": {
    "collapsed": true
   },
   "outputs": [],
   "source": [
    "df_rho = df_rho.drop(indexToDrop)"
   ]
  },
  {
   "cell_type": "code",
   "execution_count": 22,
   "metadata": {},
   "outputs": [
    {
     "name": "stdout",
     "output_type": "stream",
     "text": [
      "(995, 13) (995, 18)\n"
     ]
    }
   ],
   "source": [
    "df_final = df_final.drop(indexToDrop)\n",
    "print(df_p.shape, df_final.shape)"
   ]
  },
  {
   "cell_type": "code",
   "execution_count": 23,
   "metadata": {},
   "outputs": [
    {
     "data": {
      "text/html": [
       "<div>\n",
       "<style>\n",
       "    .dataframe thead tr:only-child th {\n",
       "        text-align: right;\n",
       "    }\n",
       "\n",
       "    .dataframe thead th {\n",
       "        text-align: left;\n",
       "    }\n",
       "\n",
       "    .dataframe tbody tr th {\n",
       "        vertical-align: top;\n",
       "    }\n",
       "</style>\n",
       "<table border=\"1\" class=\"dataframe\">\n",
       "  <thead>\n",
       "    <tr style=\"text-align: right;\">\n",
       "      <th></th>\n",
       "      <th>0.0</th>\n",
       "      <th>0.26</th>\n",
       "      <th>0.265</th>\n",
       "      <th>0.27</th>\n",
       "      <th>0.275</th>\n",
       "      <th>0.28</th>\n",
       "      <th>0.285</th>\n",
       "      <th>0.29</th>\n",
       "      <th>0.295</th>\n",
       "      <th>0.3</th>\n",
       "      <th>0.305</th>\n",
       "      <th>0.31</th>\n",
       "      <th>0.315</th>\n",
       "      <th>0.32</th>\n",
       "      <th>p_avg</th>\n",
       "      <th>rho</th>\n",
       "      <th>p0</th>\n",
       "      <th>U0</th>\n",
       "    </tr>\n",
       "  </thead>\n",
       "  <tbody>\n",
       "    <tr>\n",
       "      <th>996</th>\n",
       "      <td>2500000.0</td>\n",
       "      <td>22600.6</td>\n",
       "      <td>7812.46</td>\n",
       "      <td>7985.06</td>\n",
       "      <td>7924.33</td>\n",
       "      <td>7854.4</td>\n",
       "      <td>7332.36</td>\n",
       "      <td>7269.81</td>\n",
       "      <td>7203.8</td>\n",
       "      <td>7287.73</td>\n",
       "      <td>7229.95</td>\n",
       "      <td>6999.87</td>\n",
       "      <td>7135.48</td>\n",
       "      <td>7366.42</td>\n",
       "      <td>8615.559231</td>\n",
       "      <td>1000</td>\n",
       "      <td>70025.0</td>\n",
       "      <td>12.9746</td>\n",
       "    </tr>\n",
       "    <tr>\n",
       "      <th>997</th>\n",
       "      <td>2500000.0</td>\n",
       "      <td>22600.6</td>\n",
       "      <td>7812.46</td>\n",
       "      <td>7985.06</td>\n",
       "      <td>7924.33</td>\n",
       "      <td>7854.4</td>\n",
       "      <td>7332.36</td>\n",
       "      <td>7269.81</td>\n",
       "      <td>7203.8</td>\n",
       "      <td>7287.73</td>\n",
       "      <td>7229.95</td>\n",
       "      <td>6999.87</td>\n",
       "      <td>7135.48</td>\n",
       "      <td>7366.42</td>\n",
       "      <td>8615.559231</td>\n",
       "      <td>1000</td>\n",
       "      <td>70025.0</td>\n",
       "      <td>12.9746</td>\n",
       "    </tr>\n",
       "    <tr>\n",
       "      <th>998</th>\n",
       "      <td>2500000.0</td>\n",
       "      <td>22600.6</td>\n",
       "      <td>7812.46</td>\n",
       "      <td>7985.06</td>\n",
       "      <td>7924.33</td>\n",
       "      <td>7854.4</td>\n",
       "      <td>7332.36</td>\n",
       "      <td>7269.81</td>\n",
       "      <td>7203.8</td>\n",
       "      <td>7287.73</td>\n",
       "      <td>7229.95</td>\n",
       "      <td>6999.87</td>\n",
       "      <td>7135.48</td>\n",
       "      <td>7366.42</td>\n",
       "      <td>8615.559231</td>\n",
       "      <td>1000</td>\n",
       "      <td>70025.0</td>\n",
       "      <td>12.9746</td>\n",
       "    </tr>\n",
       "    <tr>\n",
       "      <th>999</th>\n",
       "      <td>2500000.0</td>\n",
       "      <td>22600.6</td>\n",
       "      <td>7812.46</td>\n",
       "      <td>7985.06</td>\n",
       "      <td>7924.33</td>\n",
       "      <td>7854.4</td>\n",
       "      <td>7332.36</td>\n",
       "      <td>7269.81</td>\n",
       "      <td>7203.8</td>\n",
       "      <td>7287.73</td>\n",
       "      <td>7229.95</td>\n",
       "      <td>6999.87</td>\n",
       "      <td>7135.48</td>\n",
       "      <td>7366.42</td>\n",
       "      <td>8615.559231</td>\n",
       "      <td>1000</td>\n",
       "      <td>70025.0</td>\n",
       "      <td>12.9746</td>\n",
       "    </tr>\n",
       "    <tr>\n",
       "      <th>1000</th>\n",
       "      <td>2500000.0</td>\n",
       "      <td>22600.6</td>\n",
       "      <td>7812.46</td>\n",
       "      <td>7985.06</td>\n",
       "      <td>7924.33</td>\n",
       "      <td>7854.4</td>\n",
       "      <td>7332.36</td>\n",
       "      <td>7269.81</td>\n",
       "      <td>7203.8</td>\n",
       "      <td>7287.73</td>\n",
       "      <td>7229.95</td>\n",
       "      <td>6999.87</td>\n",
       "      <td>7135.48</td>\n",
       "      <td>7366.42</td>\n",
       "      <td>8615.559231</td>\n",
       "      <td>1000</td>\n",
       "      <td>70025.0</td>\n",
       "      <td>12.9746</td>\n",
       "    </tr>\n",
       "  </tbody>\n",
       "</table>\n",
       "</div>"
      ],
      "text/plain": [
       "            0.0     0.26    0.265     0.27    0.275    0.28    0.285     0.29  \\\n",
       "996   2500000.0  22600.6  7812.46  7985.06  7924.33  7854.4  7332.36  7269.81   \n",
       "997   2500000.0  22600.6  7812.46  7985.06  7924.33  7854.4  7332.36  7269.81   \n",
       "998   2500000.0  22600.6  7812.46  7985.06  7924.33  7854.4  7332.36  7269.81   \n",
       "999   2500000.0  22600.6  7812.46  7985.06  7924.33  7854.4  7332.36  7269.81   \n",
       "1000  2500000.0  22600.6  7812.46  7985.06  7924.33  7854.4  7332.36  7269.81   \n",
       "\n",
       "       0.295      0.3    0.305     0.31    0.315     0.32        p_avg   rho  \\\n",
       "996   7203.8  7287.73  7229.95  6999.87  7135.48  7366.42  8615.559231  1000   \n",
       "997   7203.8  7287.73  7229.95  6999.87  7135.48  7366.42  8615.559231  1000   \n",
       "998   7203.8  7287.73  7229.95  6999.87  7135.48  7366.42  8615.559231  1000   \n",
       "999   7203.8  7287.73  7229.95  6999.87  7135.48  7366.42  8615.559231  1000   \n",
       "1000  7203.8  7287.73  7229.95  6999.87  7135.48  7366.42  8615.559231  1000   \n",
       "\n",
       "           p0       U0  \n",
       "996   70025.0  12.9746  \n",
       "997   70025.0  12.9746  \n",
       "998   70025.0  12.9746  \n",
       "999   70025.0  12.9746  \n",
       "1000  70025.0  12.9746  "
      ]
     },
     "execution_count": 23,
     "metadata": {},
     "output_type": "execute_result"
    }
   ],
   "source": [
    "df_final[-5:]"
   ]
  },
  {
   "cell_type": "code",
   "execution_count": 24,
   "metadata": {},
   "outputs": [
    {
     "data": {
      "text/html": [
       "<div>\n",
       "<style>\n",
       "    .dataframe thead tr:only-child th {\n",
       "        text-align: right;\n",
       "    }\n",
       "\n",
       "    .dataframe thead th {\n",
       "        text-align: left;\n",
       "    }\n",
       "\n",
       "    .dataframe tbody tr th {\n",
       "        vertical-align: top;\n",
       "    }\n",
       "</style>\n",
       "<table border=\"1\" class=\"dataframe\">\n",
       "  <thead>\n",
       "    <tr style=\"text-align: right;\">\n",
       "      <th></th>\n",
       "      <th>0.26</th>\n",
       "      <th>0.265</th>\n",
       "      <th>0.27</th>\n",
       "      <th>0.275</th>\n",
       "      <th>0.28</th>\n",
       "      <th>0.285</th>\n",
       "      <th>0.29</th>\n",
       "      <th>0.295</th>\n",
       "      <th>0.3</th>\n",
       "      <th>0.305</th>\n",
       "      <th>0.31</th>\n",
       "      <th>0.315</th>\n",
       "      <th>0.32</th>\n",
       "    </tr>\n",
       "  </thead>\n",
       "  <tbody>\n",
       "    <tr>\n",
       "      <th>996</th>\n",
       "      <td>22600.6</td>\n",
       "      <td>7812.46</td>\n",
       "      <td>7985.06</td>\n",
       "      <td>7924.33</td>\n",
       "      <td>7854.4</td>\n",
       "      <td>7332.36</td>\n",
       "      <td>7269.81</td>\n",
       "      <td>7203.8</td>\n",
       "      <td>7287.73</td>\n",
       "      <td>7229.95</td>\n",
       "      <td>6999.87</td>\n",
       "      <td>7135.48</td>\n",
       "      <td>7366.42</td>\n",
       "    </tr>\n",
       "    <tr>\n",
       "      <th>997</th>\n",
       "      <td>22600.6</td>\n",
       "      <td>7812.46</td>\n",
       "      <td>7985.06</td>\n",
       "      <td>7924.33</td>\n",
       "      <td>7854.4</td>\n",
       "      <td>7332.36</td>\n",
       "      <td>7269.81</td>\n",
       "      <td>7203.8</td>\n",
       "      <td>7287.73</td>\n",
       "      <td>7229.95</td>\n",
       "      <td>6999.87</td>\n",
       "      <td>7135.48</td>\n",
       "      <td>7366.42</td>\n",
       "    </tr>\n",
       "    <tr>\n",
       "      <th>998</th>\n",
       "      <td>22600.6</td>\n",
       "      <td>7812.46</td>\n",
       "      <td>7985.06</td>\n",
       "      <td>7924.33</td>\n",
       "      <td>7854.4</td>\n",
       "      <td>7332.36</td>\n",
       "      <td>7269.81</td>\n",
       "      <td>7203.8</td>\n",
       "      <td>7287.73</td>\n",
       "      <td>7229.95</td>\n",
       "      <td>6999.87</td>\n",
       "      <td>7135.48</td>\n",
       "      <td>7366.42</td>\n",
       "    </tr>\n",
       "    <tr>\n",
       "      <th>999</th>\n",
       "      <td>22600.6</td>\n",
       "      <td>7812.46</td>\n",
       "      <td>7985.06</td>\n",
       "      <td>7924.33</td>\n",
       "      <td>7854.4</td>\n",
       "      <td>7332.36</td>\n",
       "      <td>7269.81</td>\n",
       "      <td>7203.8</td>\n",
       "      <td>7287.73</td>\n",
       "      <td>7229.95</td>\n",
       "      <td>6999.87</td>\n",
       "      <td>7135.48</td>\n",
       "      <td>7366.42</td>\n",
       "    </tr>\n",
       "    <tr>\n",
       "      <th>1000</th>\n",
       "      <td>22600.6</td>\n",
       "      <td>7812.46</td>\n",
       "      <td>7985.06</td>\n",
       "      <td>7924.33</td>\n",
       "      <td>7854.4</td>\n",
       "      <td>7332.36</td>\n",
       "      <td>7269.81</td>\n",
       "      <td>7203.8</td>\n",
       "      <td>7287.73</td>\n",
       "      <td>7229.95</td>\n",
       "      <td>6999.87</td>\n",
       "      <td>7135.48</td>\n",
       "      <td>7366.42</td>\n",
       "    </tr>\n",
       "  </tbody>\n",
       "</table>\n",
       "</div>"
      ],
      "text/plain": [
       "        0.260    0.265    0.270    0.275   0.280    0.285    0.290   0.295  \\\n",
       "996   22600.6  7812.46  7985.06  7924.33  7854.4  7332.36  7269.81  7203.8   \n",
       "997   22600.6  7812.46  7985.06  7924.33  7854.4  7332.36  7269.81  7203.8   \n",
       "998   22600.6  7812.46  7985.06  7924.33  7854.4  7332.36  7269.81  7203.8   \n",
       "999   22600.6  7812.46  7985.06  7924.33  7854.4  7332.36  7269.81  7203.8   \n",
       "1000  22600.6  7812.46  7985.06  7924.33  7854.4  7332.36  7269.81  7203.8   \n",
       "\n",
       "        0.300    0.305    0.310    0.315    0.320  \n",
       "996   7287.73  7229.95  6999.87  7135.48  7366.42  \n",
       "997   7287.73  7229.95  6999.87  7135.48  7366.42  \n",
       "998   7287.73  7229.95  6999.87  7135.48  7366.42  \n",
       "999   7287.73  7229.95  6999.87  7135.48  7366.42  \n",
       "1000  7287.73  7229.95  6999.87  7135.48  7366.42  "
      ]
     },
     "execution_count": 24,
     "metadata": {},
     "output_type": "execute_result"
    }
   ],
   "source": [
    "df_p[-5:]"
   ]
  },
  {
   "cell_type": "markdown",
   "metadata": {},
   "source": [
    "### Calculating Cp"
   ]
  },
  {
   "cell_type": "code",
   "execution_count": 25,
   "metadata": {
    "scrolled": false
   },
   "outputs": [
    {
     "data": {
      "image/png": "[encoded data removed]",
      "text/plain": [
       "<matplotlib.figure.Figure at 0x7fb21ca4dd30>"
      ]
     },
     "metadata": {},
     "output_type": "display_data"
    }
   ],
   "source": [
    "#df_final['rho'] = \n",
    "#df_final['Cp'] = calcCp(df_final['p_avg'], df_final['p0'], df_final['U0'], df_final['rho'])\n",
    "p0 = 7849.5\n",
    "U = 5.25\n",
    "df_tmp = calcCp(df_p, p0, U, 1000)\n",
    "df_tmp['Cp_mean'] = df_tmp.mean(axis=1)\n",
    "#df_tmp[-5:]\n",
    "df_tmp.plot(y='Cp_mean')\n",
    "df_final['Cp_mean'] = df_tmp['Cp_mean']"
   ]
  },
  {
   "cell_type": "code",
   "execution_count": 26,
   "metadata": {},
   "outputs": [
    {
     "data": {
      "text/html": [
       "<div>\n",
       "<style>\n",
       "    .dataframe thead tr:only-child th {\n",
       "        text-align: right;\n",
       "    }\n",
       "\n",
       "    .dataframe thead th {\n",
       "        text-align: left;\n",
       "    }\n",
       "\n",
       "    .dataframe tbody tr th {\n",
       "        vertical-align: top;\n",
       "    }\n",
       "</style>\n",
       "<table border=\"1\" class=\"dataframe\">\n",
       "  <thead>\n",
       "    <tr style=\"text-align: right;\">\n",
       "      <th></th>\n",
       "      <th>0.0</th>\n",
       "      <th>0.26</th>\n",
       "      <th>0.265</th>\n",
       "      <th>0.27</th>\n",
       "      <th>0.275</th>\n",
       "      <th>0.28</th>\n",
       "      <th>0.285</th>\n",
       "      <th>0.29</th>\n",
       "      <th>0.295</th>\n",
       "      <th>0.3</th>\n",
       "      <th>...</th>\n",
       "      <th>p_avg</th>\n",
       "      <th>rho</th>\n",
       "      <th>p0</th>\n",
       "      <th>U0</th>\n",
       "      <th>Cp_mean</th>\n",
       "      <th>x</th>\n",
       "      <th>y</th>\n",
       "      <th>z</th>\n",
       "      <th>alpha</th>\n",
       "      <th>radius</th>\n",
       "    </tr>\n",
       "  </thead>\n",
       "  <tbody>\n",
       "    <tr>\n",
       "      <th>1</th>\n",
       "      <td>2500000.0</td>\n",
       "      <td>36748.7</td>\n",
       "      <td>25072.8</td>\n",
       "      <td>23550.3</td>\n",
       "      <td>23143.4</td>\n",
       "      <td>22822.2</td>\n",
       "      <td>22396.7</td>\n",
       "      <td>22197.6</td>\n",
       "      <td>22114.8</td>\n",
       "      <td>22057.4</td>\n",
       "      <td>...</td>\n",
       "      <td>23670.169231</td>\n",
       "      <td>1000</td>\n",
       "      <td>70025.0</td>\n",
       "      <td>12.9746</td>\n",
       "      <td>1.147985</td>\n",
       "      <td>-0.012250</td>\n",
       "      <td>0.000038</td>\n",
       "      <td>0.0</td>\n",
       "      <td>0.040892</td>\n",
       "      <td>0.01225</td>\n",
       "    </tr>\n",
       "    <tr>\n",
       "      <th>2</th>\n",
       "      <td>2500000.0</td>\n",
       "      <td>36748.7</td>\n",
       "      <td>25072.8</td>\n",
       "      <td>23550.3</td>\n",
       "      <td>23143.4</td>\n",
       "      <td>22822.2</td>\n",
       "      <td>22396.7</td>\n",
       "      <td>22197.6</td>\n",
       "      <td>22114.8</td>\n",
       "      <td>22057.4</td>\n",
       "      <td>...</td>\n",
       "      <td>23670.169231</td>\n",
       "      <td>1000</td>\n",
       "      <td>70025.0</td>\n",
       "      <td>12.9746</td>\n",
       "      <td>1.147985</td>\n",
       "      <td>-0.012250</td>\n",
       "      <td>0.000077</td>\n",
       "      <td>0.0</td>\n",
       "      <td>0.040975</td>\n",
       "      <td>0.01225</td>\n",
       "    </tr>\n",
       "    <tr>\n",
       "      <th>3</th>\n",
       "      <td>2500000.0</td>\n",
       "      <td>36748.7</td>\n",
       "      <td>25072.8</td>\n",
       "      <td>23550.3</td>\n",
       "      <td>23143.4</td>\n",
       "      <td>22822.2</td>\n",
       "      <td>22396.7</td>\n",
       "      <td>22197.6</td>\n",
       "      <td>22114.8</td>\n",
       "      <td>22057.4</td>\n",
       "      <td>...</td>\n",
       "      <td>23670.169231</td>\n",
       "      <td>1000</td>\n",
       "      <td>70025.0</td>\n",
       "      <td>12.9746</td>\n",
       "      <td>1.147985</td>\n",
       "      <td>-0.012249</td>\n",
       "      <td>0.000115</td>\n",
       "      <td>0.0</td>\n",
       "      <td>0.041057</td>\n",
       "      <td>0.01225</td>\n",
       "    </tr>\n",
       "  </tbody>\n",
       "</table>\n",
       "<p>3 rows × 24 columns</p>\n",
       "</div>"
      ],
      "text/plain": [
       "         0.0     0.26    0.265     0.27    0.275     0.28    0.285     0.29  \\\n",
       "1  2500000.0  36748.7  25072.8  23550.3  23143.4  22822.2  22396.7  22197.6   \n",
       "2  2500000.0  36748.7  25072.8  23550.3  23143.4  22822.2  22396.7  22197.6   \n",
       "3  2500000.0  36748.7  25072.8  23550.3  23143.4  22822.2  22396.7  22197.6   \n",
       "\n",
       "     0.295      0.3   ...            p_avg   rho       p0       U0   Cp_mean  \\\n",
       "1  22114.8  22057.4   ...     23670.169231  1000  70025.0  12.9746  1.147985   \n",
       "2  22114.8  22057.4   ...     23670.169231  1000  70025.0  12.9746  1.147985   \n",
       "3  22114.8  22057.4   ...     23670.169231  1000  70025.0  12.9746  1.147985   \n",
       "\n",
       "          x         y    z     alpha   radius  \n",
       "1 -0.012250  0.000038  0.0  0.040892  0.01225  \n",
       "2 -0.012250  0.000077  0.0  0.040975  0.01225  \n",
       "3 -0.012249  0.000115  0.0  0.041057  0.01225  \n",
       "\n",
       "[3 rows x 24 columns]"
      ]
     },
     "execution_count": 26,
     "metadata": {},
     "output_type": "execute_result"
    }
   ],
   "source": [
    "# Calculating the arc length from the dataframe\n",
    "def radToGrad(rad):\n",
    "    return rad * 180 / math.pi\n",
    "\n",
    "def angle2D(x,y,z):\n",
    "    x, y, z = x, y, z\n",
    "    x = np.array(x)\n",
    "    y = np.array(y)\n",
    "    z = np.array(z)\n",
    "    c  = np.sqrt(x**2 + y**2)\n",
    "    alpha = abs(np.arccos(x/c))\n",
    "    alpha = np.sort(alpha, axis=0)\n",
    "    return alpha\n",
    "\n",
    "def arcLength(radius, alpha):\n",
    "    alpha = np.array(alpha)\n",
    "    radius = np.array(radius)\n",
    "    arc = radius*alpha\n",
    "    #arc = np.sort(arc, axis=0)\n",
    "    return arc\n",
    "\n",
    "def correctArcLengthOnLine(dataFrame):\n",
    "    pass\n",
    "\n",
    "df_final.loc[1:, 'x'] = df_top['x']\n",
    "df_final.loc[1:, 'y'] = df_top['y']\n",
    "df_final.loc[1:, 'z'] = df_top['z']\n",
    "\n",
    "#example\n",
    "#df.replace([np.inf, -np.inf], np.nan)\n",
    "# make inf values nan so that pandas can handle it\n",
    "df_final = df_final.replace([np.inf, -np.inf], np.nan).dropna(subset=[\"x\"], how=\"all\")\n",
    "df_final = df_final.replace([np.inf, -np.inf], np.nan).dropna(subset=[\"y\"], how=\"all\")\n",
    "df_final = df_final.replace([np.inf, -np.inf], np.nan).dropna(subset=[\"z\"], how=\"all\")\n",
    "\n",
    "# drop negative pressure values messing up the table (only one value)\n",
    "df_final = df_final.drop(df_final[df_final['p_avg'] < 0].index)\n",
    "\n",
    "df_final['alpha'] = angle2D(df_final['x'],df_final['y'],df_final['z'])\n",
    "df_final['radius'] = 0.01225\n",
    "\n",
    "times = df_final.iloc[0].tolist()\n",
    "maxTime = max(times)\n",
    "#df_bottom['latestTime'] = df_bottom[maxTime]\n",
    "df_final[:3]\n",
    "\n",
    "# creating one final dataframe with all info of the data file\n",
    "df_final[:3]"
   ]
  },
  {
   "cell_type": "markdown",
   "metadata": {},
   "source": [
    "#### Testing arcLength calc"
   ]
  },
  {
   "cell_type": "code",
   "execution_count": 27,
   "metadata": {
    "collapsed": true
   },
   "outputs": [],
   "source": [
    "r = df_final['radius']\n",
    "alpha =df_final['alpha']\n",
    "df_final['arcLength'] = arcLength(r,alpha)\n",
    "df_final['arcLength'] = df_final['arcLength'] / (df_final['radius']*2)\n",
    "\n",
    "df_head = df_final.drop(df_final[df_final.x >= 0].index)\n",
    "df_cylinder = df_final.drop(df_final[df_final.x < 0.0].index)\n",
    "\n",
    "ind = len(df_head['x'].tolist()) \n",
    "sI  = df_head.loc[ind].x\n",
    "df_cylinder['arcLength'] = sI + df_cylinder['x']  / (df_final['radius']*2)\n",
    "#df_cylinder['arcLength']"
   ]
  },
  {
   "cell_type": "code",
   "execution_count": 28,
   "metadata": {
    "collapsed": true
   },
   "outputs": [],
   "source": [
    "#df_finall = df_head#.drop(df_final[df_final.x > 0].index)\n",
    "#df_finall[:3]"
   ]
  },
  {
   "cell_type": "code",
   "execution_count": 29,
   "metadata": {},
   "outputs": [
    {
     "data": {
      "image/png": "[encoded data removed]",
      "text/plain": [
       "<matplotlib.figure.Figure at 0x7fb21c6c8b38>"
      ]
     },
     "metadata": {},
     "output_type": "display_data"
    }
   ],
   "source": [
    "df_final['xd'] = df_final['x'] / (2 * df_final['radius'])\n",
    "\n",
    "df_finall = df_final\n",
    "xtic = list()\n",
    "for i in range(-1,10,1):\n",
    "    xtic.append(i/100)\n",
    "ytic = list()\n",
    "for i in range(-11,21,1):\n",
    "    ytic.append(i/10)\n",
    "ax2 = df_finall.plot(x='x', y=['Cp_mean'], figsize=(15,8))#, xticks=xtic, yticks=ytic)\n",
    "#df_finall.loc[:,['xd','x']]\n",
    "#df_finall['xd'] = 2"
   ]
  },
  {
   "cell_type": "markdown",
   "metadata": {},
   "source": [
    "# Hemispherical Head Parametrization"
   ]
  },
  {
   "cell_type": "code",
   "execution_count": 30,
   "metadata": {
    "collapsed": true
   },
   "outputs": [],
   "source": [
    "radius = 0.01225\n",
    "r = 1\n",
    "#xr = np.linspace(-radius,0,100)\n",
    "xr = np.array(df_head['x'].tolist())\n",
    "yr = np.array(df_head['y'].tolist())\n",
    "#yr = np.sqrt(xr**2 + radius**2)\n",
    "#xi = xr / radius\n",
    "#yi = yr / radius\n",
    "#yi = np.tan(alphai) * xi\n",
    "\n",
    "alphai = np.arctan(abs(yr / xr))\n",
    "#print(alphai)"
   ]
  },
  {
   "cell_type": "code",
   "execution_count": 31,
   "metadata": {},
   "outputs": [
    {
     "data": {
      "image/png": "[encoded data removed]",
      "text/plain": [
       "<matplotlib.figure.Figure at 0x7fb21c9f8198>"
      ]
     },
     "metadata": {},
     "output_type": "display_data"
    },
    {
     "data": {
      "text/html": [
       "<div>\n",
       "<style>\n",
       "    .dataframe thead tr:only-child th {\n",
       "        text-align: right;\n",
       "    }\n",
       "\n",
       "    .dataframe thead th {\n",
       "        text-align: left;\n",
       "    }\n",
       "\n",
       "    .dataframe tbody tr th {\n",
       "        vertical-align: top;\n",
       "    }\n",
       "</style>\n",
       "<table border=\"1\" class=\"dataframe\">\n",
       "  <thead>\n",
       "    <tr style=\"text-align: right;\">\n",
       "      <th></th>\n",
       "      <th>xr</th>\n",
       "      <th>yr</th>\n",
       "      <th>alphai</th>\n",
       "    </tr>\n",
       "  </thead>\n",
       "  <tbody>\n",
       "    <tr>\n",
       "      <th>489</th>\n",
       "      <td>-0.000192</td>\n",
       "      <td>0.012249</td>\n",
       "      <td>1.555088</td>\n",
       "    </tr>\n",
       "    <tr>\n",
       "      <th>490</th>\n",
       "      <td>-0.000154</td>\n",
       "      <td>0.012249</td>\n",
       "      <td>1.558230</td>\n",
       "    </tr>\n",
       "    <tr>\n",
       "      <th>491</th>\n",
       "      <td>-0.000115</td>\n",
       "      <td>0.012249</td>\n",
       "      <td>1.561372</td>\n",
       "    </tr>\n",
       "    <tr>\n",
       "      <th>492</th>\n",
       "      <td>-0.000077</td>\n",
       "      <td>0.012250</td>\n",
       "      <td>1.564513</td>\n",
       "    </tr>\n",
       "    <tr>\n",
       "      <th>493</th>\n",
       "      <td>-0.000038</td>\n",
       "      <td>0.012250</td>\n",
       "      <td>1.567655</td>\n",
       "    </tr>\n",
       "  </tbody>\n",
       "</table>\n",
       "</div>"
      ],
      "text/plain": [
       "           xr        yr    alphai\n",
       "489 -0.000192  0.012249  1.555088\n",
       "490 -0.000154  0.012249  1.558230\n",
       "491 -0.000115  0.012249  1.561372\n",
       "492 -0.000077  0.012250  1.564513\n",
       "493 -0.000038  0.012250  1.567655"
      ]
     },
     "execution_count": 31,
     "metadata": {},
     "output_type": "execute_result"
    }
   ],
   "source": [
    "#df.replace([np.inf, -np.inf], np.nan).dropna(subset=[\"col1\", \"col2\"], how=\"all\")\n",
    "#print(xr[800:900])\n",
    "# cleaning from nan\n",
    "tmpdf = pd.DataFrame(data=xr, columns=['xr'])\n",
    "tmpdf['yr'] = yr\n",
    "#tmpdf['yi'] = yi\n",
    "#tmpdf['xi'] = xi\n",
    "tmpdf['alphai'] = alphai\n",
    "tmpdf = tmpdf.replace([np.inf, -np.inf], np.nan).dropna(subset=[\"xr\"], how=\"all\")\n",
    "tmpdf = tmpdf.replace([np.inf, -np.inf], np.nan).dropna(subset=[\"alphai\"], how=\"all\")\n",
    "\n",
    "\n",
    "xr = np.array(tmpdf['xr'].tolist())\n",
    "yr = np.array(tmpdf['yr'].tolist())\n",
    "#yi = np.array(tmpdf['yi'].tolist())\n",
    "#xi = np.array(tmpdf['xi'].tolist())\n",
    "alphai = np.array(tmpdf['alphai'].tolist())\n",
    "\n",
    "\n",
    "fig, ax = plt.subplots()\n",
    "xt = xr[:]\n",
    "yt = yr[:]\n",
    "ax.scatter(xt,yt)\n",
    "ax.grid()\n",
    "plt.ylim(min(yt), max(yt))\n",
    "plt.xlim(min(xt), max(xt))\n",
    "plt.show()\n",
    "\n",
    "tmpdf[-5:]"
   ]
  },
  {
   "cell_type": "code",
   "execution_count": 32,
   "metadata": {},
   "outputs": [
    {
     "data": {
      "text/plain": [
       "0.019203770415686779"
      ]
     },
     "execution_count": 32,
     "metadata": {},
     "output_type": "execute_result"
    },
    {
     "data": {
      "image/png": "[encoded data removed]",
      "text/plain": [
       "<matplotlib.figure.Figure at 0x7fb21c6d2780>"
      ]
     },
     "metadata": {},
     "output_type": "display_data"
    }
   ],
   "source": [
    "bi  = radius *  alphai\n",
    "fig, ax = plt.subplots()\n",
    "ax.scatter(xr,bi)\n",
    "plt.ylim(min(bi),max(bi))\n",
    "plt.xlim(min(xr),max(xr))\n",
    "#plt.show()\n",
    "bi[-1]"
   ]
  },
  {
   "cell_type": "code",
   "execution_count": 33,
   "metadata": {},
   "outputs": [
    {
     "name": "stdout",
     "output_type": "stream",
     "text": [
      "0.00628316275692\n"
     ]
    }
   ],
   "source": [
    "print(alphai[1])"
   ]
  },
  {
   "cell_type": "code",
   "execution_count": 34,
   "metadata": {},
   "outputs": [
    {
     "data": {
      "text/plain": [
       "0.012249758197223338"
      ]
     },
     "execution_count": 34,
     "metadata": {},
     "output_type": "execute_result"
    }
   ],
   "source": [
    "math.cos(alphai[1])  * radius"
   ]
  },
  {
   "cell_type": "code",
   "execution_count": 35,
   "metadata": {},
   "outputs": [
    {
     "name": "stdout",
     "output_type": "stream",
     "text": [
      "1.56765472781\n"
     ]
    }
   ],
   "source": [
    "print(alphai[-1])"
   ]
  },
  {
   "cell_type": "code",
   "execution_count": 36,
   "metadata": {},
   "outputs": [
    {
     "data": {
      "text/plain": [
       "3.848452424587127e-05"
      ]
     },
     "execution_count": 36,
     "metadata": {},
     "output_type": "execute_result"
    }
   ],
   "source": [
    "math.cos(alphai[-1]) * radius"
   ]
  },
  {
   "cell_type": "code",
   "execution_count": null,
   "metadata": {
    "collapsed": true
   },
   "outputs": [],
   "source": []
  },
  {
   "cell_type": "code",
   "execution_count": 37,
   "metadata": {
    "collapsed": true
   },
   "outputs": [],
   "source": [
    "#numberSteps = 10000\n",
    "#xi_2 = np.linspace(0,8,numberSteps)\n",
    "xi_2 = np.array(df_cylinder['x'].tolist())\n",
    "#yi_2 = np.linspace(0,8,numberSteps)\n",
    "yi_2 = np.array(df_cylinder['x'].tolist())\n",
    "for i in range(len(yi_2)):\n",
    "    yi_2[i] = radius\n",
    "\n",
    "# '*', due to radius < 1\n",
    "y = yr\n",
    "y = np.append(y, yi_2)\n",
    "\n",
    "x = xr \n",
    "x = np.append(x, xi_2)\n",
    "\n",
    "s = bi\n",
    "bi_2 = xi_2\n",
    "for i in range(len(bi_2)):\n",
    "    bi_2[i] = bi_2[i] + s[-1]\n",
    "#s= np.append(s, xi_2)\n",
    "s= np.append(s, bi_2)\n",
    "\n"
   ]
  },
  {
   "cell_type": "code",
   "execution_count": 38,
   "metadata": {},
   "outputs": [
    {
     "data": {
      "text/plain": [
       "array([ 0.01920377,  0.01980497,  0.02040617,  0.02100738,  0.02160858])"
      ]
     },
     "execution_count": 38,
     "metadata": {},
     "output_type": "execute_result"
    }
   ],
   "source": [
    "bi_2[:5]"
   ]
  },
  {
   "cell_type": "code",
   "execution_count": 39,
   "metadata": {},
   "outputs": [
    {
     "data": {
      "image/png": "[encoded data removed]",
      "text/plain": [
       "<matplotlib.figure.Figure at 0x7fb21c501320>"
      ]
     },
     "metadata": {},
     "output_type": "display_data"
    }
   ],
   "source": [
    "fig, ax = plt.subplots()\n",
    "ax.scatter(x,y)\n",
    "plt.ylim(min(y),max(y))\n",
    "plt.xlim(min(x),1*radius)\n",
    "plt.show()"
   ]
  },
  {
   "cell_type": "code",
   "execution_count": 40,
   "metadata": {
    "collapsed": true
   },
   "outputs": [],
   "source": [
    "df = pd.DataFrame(data=x, columns=['x'])\n",
    "df['y'] = y\n",
    "df['s'] = s\n",
    "dff = df.iloc[:]\n",
    "#dff.plot(kind='scatter', x='s', y='x')"
   ]
  },
  {
   "cell_type": "code",
   "execution_count": 41,
   "metadata": {
    "collapsed": true
   },
   "outputs": [],
   "source": [
    "df_final['s'] = df['s']\n",
    "df_final['sd'] = df_final['s'] /  (2*radius)\n",
    "df_final = df_final.replace([np.inf, -np.inf], np.nan).dropna(subset=[\"s\"], how=\"all\")\n",
    "df_final = df_final.replace([np.inf, -np.inf], np.nan).dropna(subset=[\"sd\"], how=\"all\")"
   ]
  },
  {
   "cell_type": "code",
   "execution_count": 42,
   "metadata": {
    "collapsed": true
   },
   "outputs": [],
   "source": [
    "sd_m08 = [0.0,0.3,0.4,0.5,0.6,0.6,0.7,0.8,0.9,1.0,1.5,2.0,2.5,3.5]\n",
    "cp_m08 = [1,0.5,0,-0.2,-0.4,-0.6,-0.74,-0.6,-0.18,-0.15,-0.07,-0.04,-0.02,-0.01]\n",
    "df_meas_K08 = pd.DataFrame(data=sd_m08, columns=['sd_m'])\n",
    "df_meas_K08['Cp_m'] = cp_m08\n",
    "#df_meas[['sd_m', 'Cp_m']]\n",
    "\n",
    "sd_m04 = [0.0, 0.4, 0.5 , 1.0 , 1.375, 1.5  , 1.75, 2.5]\n",
    "cp_m04 = [1.0, 0.0,-0.39,-0.39,-0.2  , -0.05, 0.04, -0.03]\n",
    "df_meas_K04 = pd.DataFrame(data=sd_m04, columns=['sd_m'])\n",
    "df_meas_K04['Cp_m'] = cp_m04"
   ]
  },
  {
   "cell_type": "code",
   "execution_count": 43,
   "metadata": {},
   "outputs": [
    {
     "data": {
      "text/plain": [
       "2188.1624999999995"
      ]
     },
     "execution_count": 43,
     "metadata": {},
     "output_type": "execute_result"
    }
   ],
   "source": [
    "-0.4 * 0.5 * 1027 * 5.25**2 + p0"
   ]
  },
  {
   "cell_type": "code",
   "execution_count": 44,
   "metadata": {},
   "outputs": [
    {
     "data": {
      "text/html": [
       "<div>\n",
       "<style>\n",
       "    .dataframe thead tr:only-child th {\n",
       "        text-align: right;\n",
       "    }\n",
       "\n",
       "    .dataframe thead th {\n",
       "        text-align: left;\n",
       "    }\n",
       "\n",
       "    .dataframe tbody tr th {\n",
       "        vertical-align: top;\n",
       "    }\n",
       "</style>\n",
       "<table border=\"1\" class=\"dataframe\">\n",
       "  <thead>\n",
       "    <tr style=\"text-align: right;\">\n",
       "      <th></th>\n",
       "      <th>0.26</th>\n",
       "      <th>0.265</th>\n",
       "      <th>0.27</th>\n",
       "      <th>0.275</th>\n",
       "      <th>0.28</th>\n",
       "      <th>0.285</th>\n",
       "      <th>0.29</th>\n",
       "      <th>0.295</th>\n",
       "      <th>0.3</th>\n",
       "      <th>0.305</th>\n",
       "      <th>0.31</th>\n",
       "      <th>0.315</th>\n",
       "      <th>0.32</th>\n",
       "    </tr>\n",
       "  </thead>\n",
       "  <tbody>\n",
       "    <tr>\n",
       "      <th>1000</th>\n",
       "      <td>22600.6</td>\n",
       "      <td>7812.46</td>\n",
       "      <td>7985.06</td>\n",
       "      <td>7924.33</td>\n",
       "      <td>7854.4</td>\n",
       "      <td>7332.36</td>\n",
       "      <td>7269.81</td>\n",
       "      <td>7203.8</td>\n",
       "      <td>7287.73</td>\n",
       "      <td>7229.95</td>\n",
       "      <td>6999.87</td>\n",
       "      <td>7135.48</td>\n",
       "      <td>7366.42</td>\n",
       "    </tr>\n",
       "  </tbody>\n",
       "</table>\n",
       "</div>"
      ],
      "text/plain": [
       "        0.260    0.265    0.270    0.275   0.280    0.285    0.290   0.295  \\\n",
       "1000  22600.6  7812.46  7985.06  7924.33  7854.4  7332.36  7269.81  7203.8   \n",
       "\n",
       "        0.300    0.305    0.310    0.315    0.320  \n",
       "1000  7287.73  7229.95  6999.87  7135.48  7366.42  "
      ]
     },
     "execution_count": 44,
     "metadata": {},
     "output_type": "execute_result"
    }
   ],
   "source": [
    "df_p[-1:]"
   ]
  },
  {
   "cell_type": "code",
   "execution_count": 45,
   "metadata": {
    "scrolled": false
   },
   "outputs": [
    {
     "data": {
      "image/png": "[encoded data removed]",
      "text/plain": [
       "<matplotlib.figure.Figure at 0x7fb2171d20b8>"
      ]
     },
     "metadata": {},
     "output_type": "display_data"
    }
   ],
   "source": [
    "xtic = list()\n",
    "for i in range(0,1401):\n",
    "    xtic.append(i/10)\n",
    "ytic = list()\n",
    "for i in range(-10,15,1):\n",
    "    ytic.append(i/10)\n",
    "df_plot = df_final#.drop(df_final[df_final.sd > 1.2].index)\n",
    "ax1 = df_plot.plot(x='sd', y=['Cp_mean'], figsize=(15,8),grid=True)#, xticks=xtic, yticks=ytic)\n",
    "lastTime = df_p.columns.tolist()[-1]\n",
    "df_plot.plot(kind='line', x='sd', y=[lastTime],grid=True, secondary_y=True, color='b', ax=ax1)\n",
    "\n",
    "df_meas_K04.plot(kind='scatter', x='sd_m', y=['Cp_m'],grid=True, color='k', ax=ax1)\n",
    "\n",
    "fig = ax1.get_figure()\n",
    "fig.savefig(plotwd)"
   ]
  },
  {
   "cell_type": "code",
   "execution_count": 46,
   "metadata": {},
   "outputs": [
    {
     "data": {
      "text/plain": [
       "<matplotlib.axes._subplots.AxesSubplot at 0x7fb2171d1278>"
      ]
     },
     "execution_count": 46,
     "metadata": {},
     "output_type": "execute_result"
    },
    {
     "data": {
      "image/png": "[encoded data removed]",
      "text/plain": [
       "<matplotlib.figure.Figure at 0x7fb2171d1b00>"
      ]
     },
     "metadata": {},
     "output_type": "display_data"
    }
   ],
   "source": [
    "df_plot.plot(kind='scatter', x='x', y=['sd'], figsize=(15,8))#, xticks=xtic, yticks=ytic)"
   ]
  },
  {
   "cell_type": "code",
   "execution_count": 47,
   "metadata": {
    "scrolled": false
   },
   "outputs": [
    {
     "ename": "SyntaxError",
     "evalue": "invalid syntax (<ipython-input-47-4fb8b331fae3>, line 2)",
     "output_type": "error",
     "traceback": [
      "\u001b[0;36m  File \u001b[0;32m\"<ipython-input-47-4fb8b331fae3>\"\u001b[0;36m, line \u001b[0;32m2\u001b[0m\n\u001b[0;31m    df_rho.plot(x='sd', y=[0.365] figsize=(15,8))#, y=[0.365])#, figsize=(15,8))#, xticks=xtic, yticks=ytic)\u001b[0m\n\u001b[0m                                        ^\u001b[0m\n\u001b[0;31mSyntaxError\u001b[0m\u001b[0;31m:\u001b[0m invalid syntax\n"
     ]
    }
   ],
   "source": [
    "df_rho['sd'] = df_final['sd']\n",
    "df_rho.plot(x='sd', y=[0.365] figsize=(15,8))#, y=[0.365])#, figsize=(15,8))#, xticks=xtic, yticks=ytic)\n",
    "#df_rho"
   ]
  },
  {
   "cell_type": "code",
   "execution_count": null,
   "metadata": {
    "collapsed": true
   },
   "outputs": [],
   "source": []
  },
  {
   "cell_type": "code",
   "execution_count": null,
   "metadata": {
    "collapsed": true
   },
   "outputs": [],
   "source": []
  }
 ],
 "metadata": {
  "kernelspec": {
   "display_name": "Python 3",
   "language": "python",
   "name": "python3"
  },
  "language_info": {
   "codemirror_mode": {
    "name": "ipython",
    "version": 3
   },
   "file_extension": ".py",
   "mimetype": "text/x-python",
   "name": "python",
   "nbconvert_exporter": "python",
   "pygments_lexer": "ipython3",
   "version": "3.6.2"
  }
 },
 "nbformat": 4,
 "nbformat_minor": 2
}
