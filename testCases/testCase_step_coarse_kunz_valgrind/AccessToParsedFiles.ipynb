{
 "cells": [
  {
   "cell_type": "code",
   "execution_count": 2,
   "metadata": {},
   "outputs": [
    {
     "data": {
      "text/plain": [
       "'/home/timo/Developer/devOpenFOAM/ws_ofUtils/step_valgrind_case_template'"
      ]
     },
     "execution_count": 2,
     "metadata": {},
     "output_type": "execute_result"
    }
   ],
   "source": [
    "from PyFoam.RunDictionary.SolutionDirectory import SolutionDirectory\n",
    "from PyFoam.RunDictionary.ParsedParameterFile import ParsedParameterFile\n",
    "\n",
    "import numpy as np\n",
    "import pandas as pd\n",
    "\n",
    "import os \n",
    "from os import getcwd, path, chdir\n",
    "\n",
    "\n",
    "pwd = getcwd()\n",
    "templateCase = SolutionDirectory(pwd)\n",
    "templateCase.name"
   ]
  },
  {
   "cell_type": "markdown",
   "metadata": {},
   "source": [
    "# Objective:\n",
    "\n",
    "+ Enable design-space-exploration (DSE)\n",
    "\n",
    "## Parameters\n",
    "+ Endtime \n",
    "+ writeInterval\n",
    "+ Co numbers\n",
    "+ Specific changes to BCs\n",
    "    + myWaveTransmissive: table for the time dependend pressure\n",
    "+ The domain values for pressure\n",
    "\n",
    "\n",
    "## Realisation\n",
    "+ Write one class for each parameter file that performs the changes in the respective file\n",
    "+ Write one parameter study, performing a DSE with a maximum number of simulations\n",
    " "
   ]
  },
  {
   "cell_type": "markdown",
   "metadata": {},
   "source": [
    "# Figuring out how to access the desired variables in the parsed files"
   ]
  },
  {
   "cell_type": "markdown",
   "metadata": {},
   "source": [
    "# Control dict"
   ]
  },
  {
   "cell_type": "code",
   "execution_count": 3,
   "metadata": {},
   "outputs": [
    {
     "data": {
      "text/plain": [
       "{'adjustTimeStep': no,\n",
       " 'application': 'compMultiphaseCavitation',\n",
       " 'deltaT': 1e-06,\n",
       " 'endTime': 1.1e-06,\n",
       " 'functions': {0: '#includeFunc yPlus\\n'},\n",
       " 'maxAcousticCo': 2001,\n",
       " 'maxAlphaCo': 0.25,\n",
       " 'maxCo': 0.75,\n",
       " 'purgeWrite': 0,\n",
       " 'runTimeModifiable': yes,\n",
       " 'startFrom': 'latestTime',\n",
       " 'startTime': 0,\n",
       " 'stopAt': 'endTime',\n",
       " 'timeFormat': 'fixed',\n",
       " 'timePrecision': 6,\n",
       " 'writeCompression': no,\n",
       " 'writeControl': 'adjustableRunTime',\n",
       " 'writeFormat': 'ascii',\n",
       " 'writeInterval': 1e-06,\n",
       " 'writePrecision': 9}"
      ]
     },
     "execution_count": 3,
     "metadata": {},
     "output_type": "execute_result"
    }
   ],
   "source": [
    "controlDictPath = path.join(templateCase.name, \"system\", \"controlDict\")\n",
    "parsedControlDict = ParsedParameterFile(controlDictPath)\n",
    "parsedControlDict.content"
   ]
  },
  {
   "cell_type": "code",
   "execution_count": 7,
   "metadata": {},
   "outputs": [
    {
     "data": {
      "text/html": [
       "<div>\n",
       "<style>\n",
       "    .dataframe thead tr:only-child th {\n",
       "        text-align: right;\n",
       "    }\n",
       "\n",
       "    .dataframe thead th {\n",
       "        text-align: left;\n",
       "    }\n",
       "\n",
       "    .dataframe tbody tr th {\n",
       "        vertical-align: top;\n",
       "    }\n",
       "</style>\n",
       "<table border=\"1\" class=\"dataframe\">\n",
       "  <thead>\n",
       "    <tr style=\"text-align: right;\">\n",
       "      <th></th>\n",
       "      <th>adjustTimeStep</th>\n",
       "      <th>application</th>\n",
       "      <th>deltaT</th>\n",
       "      <th>endTime</th>\n",
       "      <th>functions</th>\n",
       "      <th>maxAcousticCo</th>\n",
       "      <th>maxAlphaCo</th>\n",
       "      <th>maxCo</th>\n",
       "      <th>purgeWrite</th>\n",
       "      <th>runTimeModifiable</th>\n",
       "      <th>startFrom</th>\n",
       "      <th>startTime</th>\n",
       "      <th>stopAt</th>\n",
       "      <th>timeFormat</th>\n",
       "      <th>timePrecision</th>\n",
       "      <th>writeCompression</th>\n",
       "      <th>writeControl</th>\n",
       "      <th>writeFormat</th>\n",
       "      <th>writeInterval</th>\n",
       "      <th>writePrecision</th>\n",
       "    </tr>\n",
       "  </thead>\n",
       "  <tbody>\n",
       "    <tr>\n",
       "      <th>0</th>\n",
       "      <td>no</td>\n",
       "      <td>compMultiphaseCavitation</td>\n",
       "      <td>0.000001</td>\n",
       "      <td>0.000001</td>\n",
       "      <td>#includeFunc yPlus\\n</td>\n",
       "      <td>2001</td>\n",
       "      <td>0.25</td>\n",
       "      <td>0.75</td>\n",
       "      <td>0</td>\n",
       "      <td>yes</td>\n",
       "      <td>latestTime</td>\n",
       "      <td>0</td>\n",
       "      <td>endTime</td>\n",
       "      <td>fixed</td>\n",
       "      <td>6</td>\n",
       "      <td>no</td>\n",
       "      <td>adjustableRunTime</td>\n",
       "      <td>ascii</td>\n",
       "      <td>0.000001</td>\n",
       "      <td>9</td>\n",
       "    </tr>\n",
       "  </tbody>\n",
       "</table>\n",
       "</div>"
      ],
      "text/plain": [
       "  adjustTimeStep               application    deltaT   endTime  \\\n",
       "0             no  compMultiphaseCavitation  0.000001  0.000001   \n",
       "\n",
       "              functions  maxAcousticCo  maxAlphaCo  maxCo  purgeWrite  \\\n",
       "0  #includeFunc yPlus\\n           2001        0.25   0.75           0   \n",
       "\n",
       "  runTimeModifiable   startFrom  startTime   stopAt timeFormat  timePrecision  \\\n",
       "0               yes  latestTime          0  endTime      fixed              6   \n",
       "\n",
       "  writeCompression       writeControl writeFormat  writeInterval  \\\n",
       "0               no  adjustableRunTime       ascii       0.000001   \n",
       "\n",
       "   writePrecision  \n",
       "0               9  "
      ]
     },
     "execution_count": 7,
     "metadata": {},
     "output_type": "execute_result"
    }
   ],
   "source": [
    "df1 = pd.DataFrame(parsedControlDict.content)\n",
    "df1"
   ]
  },
  {
   "cell_type": "code",
   "execution_count": 20,
   "metadata": {},
   "outputs": [
    {
     "name": "stdout",
     "output_type": "stream",
     "text": [
      "{'adjustTimeStep': no, 'application': 'compMultiphaseCavitation', 'deltaT': 1e-06, 'endTime': 1.1e-06, 'functions': '#includeFunc yPlus\\n', 'maxAcousticCo': 2001, 'maxAlphaCo': 0.25, 'maxCo': 0.75, 'purgeWrite': 0, 'runTimeModifiable': yes, 'startFrom': 'latestTime', 'startTime': 0, 'stopAt': 'endTime', 'timeFormat': 'fixed', 'timePrecision': 6, 'writeCompression': no, 'writeControl': 'adjustableRunTime', 'writeFormat': 'ascii', 'writeInterval': 1e-06, 'writePrecision': 9}\n"
     ]
    }
   ],
   "source": [
    "df1_dict = df1.to_dict('index')\n",
    "df1_dict = df1_dict.get(0)\n",
    "print(df1_dict)"
   ]
  },
  {
   "cell_type": "code",
   "execution_count": 24,
   "metadata": {},
   "outputs": [],
   "source": [
    "maxAcousticCo = parsedControlDict[\"maxAcousticCo\"]\n",
    "maxAlphaCo = parsedControlDict[\"maxAlphaCo\"]\n",
    "maxCo = parsedControlDict[\"maxCo\"]\n",
    "endTime = parsedControlDict[\"endTime\"]\n",
    "writeInterval = parsedControlDict[\"writeInterval\"]"
   ]
  },
  {
   "cell_type": "markdown",
   "metadata": {},
   "source": [
    "# p field"
   ]
  },
  {
   "cell_type": "code",
   "execution_count": 50,
   "metadata": {},
   "outputs": [
    {
     "data": {
      "text/plain": [
       "{'boundaryField': {'frontAndBack': {'type': 'empty'},\n",
       "  'inlet': {'type': 'calculated', 'value': '$internalField'},\n",
       "  'lowerWall': {'type': 'calculated', 'value': '$internalField'},\n",
       "  'outlet': {'type': 'calculated', 'value': '$internalField'},\n",
       "  'upperWall': {'type': 'calculated', 'value': '$internalField'}},\n",
       " 'dimensions': '[ 1 -1 -2 0 0 0 0 ]',\n",
       " 'internalField': 'uniform 101001'}"
      ]
     },
     "execution_count": 50,
     "metadata": {},
     "output_type": "execute_result"
    }
   ],
   "source": [
    "pFieldPath = path.join(templateCase.name, \"0.orig\", \"p\")\n",
    "parsedPFieldPath = ParsedParameterFile(pFieldPath)\n",
    "parsedPFieldPath.content"
   ]
  },
  {
   "cell_type": "code",
   "execution_count": 52,
   "metadata": {},
   "outputs": [
    {
     "data": {
      "text/plain": [
       "'calculated'"
      ]
     },
     "execution_count": 52,
     "metadata": {},
     "output_type": "execute_result"
    }
   ],
   "source": [
    "parsedPFieldPath[\"boundaryField\"][\"inlet\"][\"type\"]"
   ]
  },
  {
   "cell_type": "code",
   "execution_count": 46,
   "metadata": {},
   "outputs": [
    {
     "data": {
      "text/html": [
       "<div>\n",
       "<style>\n",
       "    .dataframe thead tr:only-child th {\n",
       "        text-align: right;\n",
       "    }\n",
       "\n",
       "    .dataframe thead th {\n",
       "        text-align: left;\n",
       "    }\n",
       "\n",
       "    .dataframe tbody tr th {\n",
       "        vertical-align: top;\n",
       "    }\n",
       "</style>\n",
       "<table border=\"1\" class=\"dataframe\">\n",
       "  <thead>\n",
       "    <tr style=\"text-align: right;\">\n",
       "      <th></th>\n",
       "      <th>frontAndBack</th>\n",
       "      <th>inlet</th>\n",
       "      <th>lowerWall</th>\n",
       "      <th>outlet</th>\n",
       "      <th>upperWall</th>\n",
       "      <th>internalField</th>\n",
       "      <th>dimensions</th>\n",
       "    </tr>\n",
       "  </thead>\n",
       "  <tbody>\n",
       "    <tr>\n",
       "      <th>type</th>\n",
       "      <td>empty</td>\n",
       "      <td>calculated</td>\n",
       "      <td>calculated</td>\n",
       "      <td>calculated</td>\n",
       "      <td>calculated</td>\n",
       "      <td>uniform 101001</td>\n",
       "      <td>[ 1 -1 -2 0 0 0 0 ]</td>\n",
       "    </tr>\n",
       "    <tr>\n",
       "      <th>value</th>\n",
       "      <td>NaN</td>\n",
       "      <td>$internalField</td>\n",
       "      <td>$internalField</td>\n",
       "      <td>$internalField</td>\n",
       "      <td>$internalField</td>\n",
       "      <td>uniform 101001</td>\n",
       "      <td>[ 1 -1 -2 0 0 0 0 ]</td>\n",
       "    </tr>\n",
       "  </tbody>\n",
       "</table>\n",
       "</div>"
      ],
      "text/plain": [
       "      frontAndBack           inlet       lowerWall          outlet  \\\n",
       "type         empty      calculated      calculated      calculated   \n",
       "value          NaN  $internalField  $internalField  $internalField   \n",
       "\n",
       "            upperWall   internalField           dimensions  \n",
       "type       calculated  uniform 101001  [ 1 -1 -2 0 0 0 0 ]  \n",
       "value  $internalField  uniform 101001  [ 1 -1 -2 0 0 0 0 ]  "
      ]
     },
     "execution_count": 46,
     "metadata": {},
     "output_type": "execute_result"
    }
   ],
   "source": [
    "df2 = pd.DataFrame(parsedPFieldPath.content.get(\"boundaryField\"))\n",
    "df2[\"internalField\"] = parsedPFieldPath.content.get(\"internalField\")\n",
    "df2[\"dimensions\"] = parsedPFieldPath.content.get(\"dimensions\")\n",
    "\n",
    "df2"
   ]
  },
  {
   "cell_type": "code",
   "execution_count": 30,
   "metadata": {},
   "outputs": [
    {
     "data": {
      "text/plain": [
       "{'type': 'empty'}"
      ]
     },
     "execution_count": 30,
     "metadata": {},
     "output_type": "execute_result"
    }
   ],
   "source": [
    "df2.loc[\"frontAndBack\"][\"boundaryField\"]"
   ]
  },
  {
   "cell_type": "code",
   "execution_count": null,
   "metadata": {},
   "outputs": [],
   "source": []
  },
  {
   "cell_type": "code",
   "execution_count": 45,
   "metadata": {},
   "outputs": [
    {
     "data": {
      "text/plain": [
       "'uniform 101000'"
      ]
     },
     "execution_count": 45,
     "metadata": {},
     "output_type": "execute_result"
    }
   ],
   "source": [
    "p_internalField = parsedPFieldPath[\"internalField\"]\n",
    "\n",
    "p_internalField"
   ]
  },
  {
   "cell_type": "markdown",
   "metadata": {},
   "source": [
    "# p_rgh field"
   ]
  },
  {
   "cell_type": "code",
   "execution_count": 53,
   "metadata": {},
   "outputs": [
    {
     "data": {
      "text/plain": [
       "{'boundaryField': {'frontAndBack': {'type': 'empty'},\n",
       "  'inlet': {'type': 'uniformFixedValue',\n",
       "   'uniformValue': ['table', [[0, 101000], [0.075, 101000], [0.085, 14000]]]},\n",
       "  'lowerWall': {'type': 'zeroGradient'},\n",
       "  'outlet': {'type': 'fixedValue', 'value': 'uniform 14000'},\n",
       "  'upperWall': {'type': 'zeroGradient'}},\n",
       " 'dimensions': '[ 1 -1 -2 0 0 0 0 ]',\n",
       " 'internalField': 'uniform 101000'}"
      ]
     },
     "execution_count": 53,
     "metadata": {},
     "output_type": "execute_result"
    }
   ],
   "source": [
    "p_rghFieldPath = path.join(templateCase.name, \"0.orig\", \"p_rgh\")\n",
    "parsedP_rghFieldPath = ParsedParameterFile(p_rghFieldPath)\n",
    "parsedP_rghFieldPath.content"
   ]
  },
  {
   "cell_type": "code",
   "execution_count": 57,
   "metadata": {},
   "outputs": [
    {
     "data": {
      "text/plain": [
       "['table', [[0, 101000], [0.075, 101000], [0.085, 14000]]]"
      ]
     },
     "execution_count": 57,
     "metadata": {},
     "output_type": "execute_result"
    }
   ],
   "source": [
    "parsedP_rghFieldPath.content[\"boundaryField\"][\"inlet\"][\"uniformValue\"]"
   ]
  },
  {
   "cell_type": "code",
   "execution_count": 118,
   "metadata": {},
   "outputs": [
    {
     "data": {
      "text/html": [
       "<div>\n",
       "<style>\n",
       "    .dataframe thead tr:only-child th {\n",
       "        text-align: right;\n",
       "    }\n",
       "\n",
       "    .dataframe thead th {\n",
       "        text-align: left;\n",
       "    }\n",
       "\n",
       "    .dataframe tbody tr th {\n",
       "        vertical-align: top;\n",
       "    }\n",
       "</style>\n",
       "<table border=\"1\" class=\"dataframe\">\n",
       "  <thead>\n",
       "    <tr style=\"text-align: right;\">\n",
       "      <th></th>\n",
       "      <th>t</th>\n",
       "      <th>p</th>\n",
       "    </tr>\n",
       "  </thead>\n",
       "  <tbody>\n",
       "    <tr>\n",
       "      <th>inlet</th>\n",
       "      <td>0.000</td>\n",
       "      <td>101000</td>\n",
       "    </tr>\n",
       "    <tr>\n",
       "      <th>inlet</th>\n",
       "      <td>0.075</td>\n",
       "      <td>101000</td>\n",
       "    </tr>\n",
       "    <tr>\n",
       "      <th>inlet</th>\n",
       "      <td>0.085</td>\n",
       "      <td>14000</td>\n",
       "    </tr>\n",
       "  </tbody>\n",
       "</table>\n",
       "</div>"
      ],
      "text/plain": [
       "           t       p\n",
       "inlet  0.000  101000\n",
       "inlet  0.075  101000\n",
       "inlet  0.085   14000"
      ]
     },
     "execution_count": 118,
     "metadata": {},
     "output_type": "execute_result"
    }
   ],
   "source": [
    "df4 = pd.DataFrame(parsedP_rghFieldPath.content[\"boundaryField\"][\"inlet\"][\"uniformValue\"][1], columns=[\"t\", \"p\"])\n",
    "df4.index = [\"inlet\",\"inlet\",\"inlet\"]\n",
    "df4"
   ]
  },
  {
   "cell_type": "code",
   "execution_count": 114,
   "metadata": {},
   "outputs": [
    {
     "data": {
      "text/html": [
       "<div>\n",
       "<style>\n",
       "    .dataframe thead tr:only-child th {\n",
       "        text-align: right;\n",
       "    }\n",
       "\n",
       "    .dataframe thead th {\n",
       "        text-align: left;\n",
       "    }\n",
       "\n",
       "    .dataframe tbody tr th {\n",
       "        vertical-align: top;\n",
       "    }\n",
       "</style>\n",
       "<table border=\"1\" class=\"dataframe\">\n",
       "  <thead>\n",
       "    <tr style=\"text-align: right;\">\n",
       "      <th></th>\n",
       "      <th>t</th>\n",
       "      <th>p</th>\n",
       "    </tr>\n",
       "  </thead>\n",
       "  <tbody>\n",
       "    <tr>\n",
       "      <th>inlet</th>\n",
       "      <td>0.000</td>\n",
       "      <td>101000</td>\n",
       "    </tr>\n",
       "    <tr>\n",
       "      <th>inlet</th>\n",
       "      <td>0.175</td>\n",
       "      <td>101000</td>\n",
       "    </tr>\n",
       "    <tr>\n",
       "      <th>inlet</th>\n",
       "      <td>0.185</td>\n",
       "      <td>14000</td>\n",
       "    </tr>\n",
       "  </tbody>\n",
       "</table>\n",
       "</div>"
      ],
      "text/plain": [
       "           t       p\n",
       "inlet  0.000  101000\n",
       "inlet  0.175  101000\n",
       "inlet  0.185   14000"
      ]
     },
     "execution_count": 114,
     "metadata": {},
     "output_type": "execute_result"
    }
   ],
   "source": [
    "df4.iloc[1:,0] = df4.iloc[1:][\"t\"] + 0.1\n",
    "\n",
    "df4"
   ]
  },
  {
   "cell_type": "code",
   "execution_count": 116,
   "metadata": {},
   "outputs": [
    {
     "data": {
      "text/html": [
       "<div>\n",
       "<style>\n",
       "    .dataframe thead tr:only-child th {\n",
       "        text-align: right;\n",
       "    }\n",
       "\n",
       "    .dataframe thead th {\n",
       "        text-align: left;\n",
       "    }\n",
       "\n",
       "    .dataframe tbody tr th {\n",
       "        vertical-align: top;\n",
       "    }\n",
       "</style>\n",
       "<table border=\"1\" class=\"dataframe\">\n",
       "  <thead>\n",
       "    <tr style=\"text-align: right;\">\n",
       "      <th></th>\n",
       "      <th>dimensions</th>\n",
       "      <th>frontAndBack</th>\n",
       "      <th>inlet</th>\n",
       "      <th>internalField</th>\n",
       "      <th>lowerWall</th>\n",
       "      <th>outlet</th>\n",
       "      <th>p</th>\n",
       "      <th>t</th>\n",
       "      <th>upperWall</th>\n",
       "    </tr>\n",
       "  </thead>\n",
       "  <tbody>\n",
       "    <tr>\n",
       "      <th>type</th>\n",
       "      <td>[ 1 -1 -2 0 0 0 0 ]</td>\n",
       "      <td>empty</td>\n",
       "      <td>uniformFixedValue</td>\n",
       "      <td>uniform 101000</td>\n",
       "      <td>zeroGradient</td>\n",
       "      <td>fixedValue</td>\n",
       "      <td>NaN</td>\n",
       "      <td>NaN</td>\n",
       "      <td>zeroGradient</td>\n",
       "    </tr>\n",
       "    <tr>\n",
       "      <th>uniformValue</th>\n",
       "      <td>[ 1 -1 -2 0 0 0 0 ]</td>\n",
       "      <td>NaN</td>\n",
       "      <td>[table, [[0, 101000], [0.075, 101000], [0.085,...</td>\n",
       "      <td>uniform 101000</td>\n",
       "      <td>NaN</td>\n",
       "      <td>NaN</td>\n",
       "      <td>NaN</td>\n",
       "      <td>NaN</td>\n",
       "      <td>NaN</td>\n",
       "    </tr>\n",
       "    <tr>\n",
       "      <th>value</th>\n",
       "      <td>[ 1 -1 -2 0 0 0 0 ]</td>\n",
       "      <td>NaN</td>\n",
       "      <td>NaN</td>\n",
       "      <td>uniform 101000</td>\n",
       "      <td>NaN</td>\n",
       "      <td>uniform 14000</td>\n",
       "      <td>NaN</td>\n",
       "      <td>NaN</td>\n",
       "      <td>NaN</td>\n",
       "    </tr>\n",
       "    <tr>\n",
       "      <th>inlet</th>\n",
       "      <td>NaN</td>\n",
       "      <td>NaN</td>\n",
       "      <td>NaN</td>\n",
       "      <td>NaN</td>\n",
       "      <td>NaN</td>\n",
       "      <td>NaN</td>\n",
       "      <td>101000.0</td>\n",
       "      <td>0.000</td>\n",
       "      <td>NaN</td>\n",
       "    </tr>\n",
       "    <tr>\n",
       "      <th>inlet</th>\n",
       "      <td>NaN</td>\n",
       "      <td>NaN</td>\n",
       "      <td>NaN</td>\n",
       "      <td>NaN</td>\n",
       "      <td>NaN</td>\n",
       "      <td>NaN</td>\n",
       "      <td>101000.0</td>\n",
       "      <td>0.175</td>\n",
       "      <td>NaN</td>\n",
       "    </tr>\n",
       "    <tr>\n",
       "      <th>inlet</th>\n",
       "      <td>NaN</td>\n",
       "      <td>NaN</td>\n",
       "      <td>NaN</td>\n",
       "      <td>NaN</td>\n",
       "      <td>NaN</td>\n",
       "      <td>NaN</td>\n",
       "      <td>14000.0</td>\n",
       "      <td>0.185</td>\n",
       "      <td>NaN</td>\n",
       "    </tr>\n",
       "  </tbody>\n",
       "</table>\n",
       "</div>"
      ],
      "text/plain": [
       "                       dimensions frontAndBack  \\\n",
       "type          [ 1 -1 -2 0 0 0 0 ]        empty   \n",
       "uniformValue  [ 1 -1 -2 0 0 0 0 ]          NaN   \n",
       "value         [ 1 -1 -2 0 0 0 0 ]          NaN   \n",
       "inlet                         NaN          NaN   \n",
       "inlet                         NaN          NaN   \n",
       "inlet                         NaN          NaN   \n",
       "\n",
       "                                                          inlet  \\\n",
       "type                                          uniformFixedValue   \n",
       "uniformValue  [table, [[0, 101000], [0.075, 101000], [0.085,...   \n",
       "value                                                       NaN   \n",
       "inlet                                                       NaN   \n",
       "inlet                                                       NaN   \n",
       "inlet                                                       NaN   \n",
       "\n",
       "               internalField     lowerWall         outlet         p      t  \\\n",
       "type          uniform 101000  zeroGradient     fixedValue       NaN    NaN   \n",
       "uniformValue  uniform 101000           NaN            NaN       NaN    NaN   \n",
       "value         uniform 101000           NaN  uniform 14000       NaN    NaN   \n",
       "inlet                    NaN           NaN            NaN  101000.0  0.000   \n",
       "inlet                    NaN           NaN            NaN  101000.0  0.175   \n",
       "inlet                    NaN           NaN            NaN   14000.0  0.185   \n",
       "\n",
       "                 upperWall  \n",
       "type          zeroGradient  \n",
       "uniformValue           NaN  \n",
       "value                  NaN  \n",
       "inlet                  NaN  \n",
       "inlet                  NaN  \n",
       "inlet                  NaN  "
      ]
     },
     "execution_count": 116,
     "metadata": {},
     "output_type": "execute_result"
    }
   ],
   "source": [
    "df3 = pd.DataFrame(parsedP_rghFieldPath.content.get(\"boundaryField\"))\n",
    "df3[\"internalField\"] = parsedP_rghFieldPath.content.get(\"internalField\")\n",
    "df3[\"dimensions\"] = parsedP_rghFieldPath.content.get(\"dimensions\")\n",
    "dft = df4\n",
    "\n",
    "df3 = pd.concat([df3, dft])\n",
    "\n",
    "\n",
    "df3"
   ]
  },
  {
   "cell_type": "code",
   "execution_count": null,
   "metadata": {},
   "outputs": [],
   "source": [
    "dft_list = "
   ]
  }
 ],
 "metadata": {
  "kernelspec": {
   "display_name": "Python 3",
   "language": "python",
   "name": "python3"
  },
  "language_info": {
   "codemirror_mode": {
    "name": "ipython",
    "version": 3
   },
   "file_extension": ".py",
   "mimetype": "text/x-python",
   "name": "python",
   "nbconvert_exporter": "python",
   "pygments_lexer": "ipython3",
   "version": "3.6.1"
  }
 },
 "nbformat": 4,
 "nbformat_minor": 2
}
